{
 "cells": [
  {
   "cell_type": "markdown",
   "id": "84302959",
   "metadata": {},
   "source": [
    "# Python Basics\n",
    "Python Fundamentals variables\n",
    "\n",
    "Python coding"
   ]
  },
  {
   "cell_type": "code",
   "execution_count": 2,
   "id": "2dc13ff7",
   "metadata": {},
   "outputs": [
    {
     "name": "stdout",
     "output_type": "stream",
     "text": [
      "hello vatsal\n"
     ]
    }
   ],
   "source": [
    "print(\"hello vatsal\")"
   ]
  },
  {
   "cell_type": "markdown",
   "id": "7cd66bed",
   "metadata": {},
   "source": [
    "# Python Variables"
   ]
  },
  {
   "cell_type": "code",
   "execution_count": 1,
   "id": "41df7db2",
   "metadata": {},
   "outputs": [
    {
     "name": "stdout",
     "output_type": "stream",
     "text": [
      "shubham\n",
      "20\n",
      "50\n",
      "70\n"
     ]
    }
   ],
   "source": [
    "var1 = \"shubham\"\n",
    "a = 20\n",
    "b = 50\n",
    "print(var1)\n",
    "print(a)\n",
    "print(b)\n",
    "\n",
    "sum =a+b\n",
    "print(sum)"
   ]
  },
  {
   "cell_type": "code",
   "execution_count": 6,
   "id": "df20032a",
   "metadata": {},
   "outputs": [
    {
     "name": "stdout",
     "output_type": "stream",
     "text": [
      "20\n",
      "0\n",
      "100\n",
      "1.0\n"
     ]
    }
   ],
   "source": [
    "var1 = 10\n",
    "var2= 10\n",
    "\n",
    "\n",
    "var3= var1 + var2\n",
    "var4= var1 - var2\n",
    "var5= var1 * var2\n",
    "var6= var1 / var2\n",
    "\n",
    "\n",
    "print(var3)\n",
    "print(var4)\n",
    "print(var5)\n",
    "print(var6)"
   ]
  },
  {
   "cell_type": "code",
   "execution_count": 2,
   "id": "ca0858cf",
   "metadata": {},
   "outputs": [
    {
     "name": "stdout",
     "output_type": "stream",
     "text": [
      "100,20,Shubham\n",
      "1,2,ABCD\n"
     ]
    }
   ],
   "source": [
    "a = 100\n",
    "b = 20\n",
    "c = \"Shubham\"\n",
    "\n",
    "x,y,z = 1,2,\"ABCD\"\n",
    "\n",
    "print(a,b,c , sep=\",\") \n",
    "\n",
    "print(x,y,z  , sep=\",\")"
   ]
  },
  {
   "cell_type": "code",
   "execution_count": 11,
   "id": "0b80a17a",
   "metadata": {},
   "outputs": [
    {
     "name": "stdout",
     "output_type": "stream",
     "text": [
      "1 1 1\n"
     ]
    }
   ],
   "source": [
    "a=b=c=1\n",
    "a\n",
    "b\n",
    "c\n",
    "\n",
    "print(a,b,c)"
   ]
  },
  {
   "cell_type": "code",
   "execution_count": 12,
   "id": "aa22d95b",
   "metadata": {},
   "outputs": [
    {
     "data": {
      "text/plain": [
       "14"
      ]
     },
     "execution_count": 12,
     "metadata": {},
     "output_type": "execute_result"
    }
   ],
   "source": [
    "s,d,f=12,13,14\n",
    "f"
   ]
  },
  {
   "cell_type": "code",
   "execution_count": 13,
   "id": "7580943b",
   "metadata": {},
   "outputs": [],
   "source": [
    "del f"
   ]
  },
  {
   "cell_type": "code",
   "execution_count": 14,
   "id": "3fff87c3",
   "metadata": {
    "scrolled": true
   },
   "outputs": [
    {
     "ename": "NameError",
     "evalue": "name 'f' is not defined",
     "output_type": "error",
     "traceback": [
      "\u001b[1;31m---------------------------------------------------------------------------\u001b[0m",
      "\u001b[1;31mNameError\u001b[0m                                 Traceback (most recent call last)",
      "Input \u001b[1;32mIn [14]\u001b[0m, in \u001b[0;36m<cell line: 1>\u001b[1;34m()\u001b[0m\n\u001b[1;32m----> 1\u001b[0m \u001b[43mf\u001b[49m\n",
      "\u001b[1;31mNameError\u001b[0m: name 'f' is not defined"
     ]
    }
   ],
   "source": [
    "f"
   ]
  },
  {
   "cell_type": "markdown",
   "id": "d347ead0",
   "metadata": {},
   "source": [
    "# Data Types\n",
    "numerical data type in float complex\n"
   ]
  },
  {
   "cell_type": "code",
   "execution_count": 3,
   "id": "927d7686",
   "metadata": {},
   "outputs": [
    {
     "name": "stdout",
     "output_type": "stream",
     "text": [
      "<class 'int'>\n",
      "<class 'float'>\n",
      "<class 'complex'>\n",
      "<class 'str'>\n",
      "<class 'bool'>\n"
     ]
    }
   ],
   "source": [
    "a=67\n",
    "b=99.9999\n",
    "c=3.14j\n",
    "d=\"Shubham\"\n",
    "e=True\n",
    "\n",
    "print(type(a))\n",
    "print(type(b))\n",
    "print(type(c))\n",
    "print(type(d))\n",
    "print(type(e))"
   ]
  },
  {
   "cell_type": "markdown",
   "id": "d76687b6",
   "metadata": {},
   "source": [
    "# How to take input from user \n"
   ]
  },
  {
   "cell_type": "code",
   "execution_count": 2,
   "id": "2e9167c9",
   "metadata": {},
   "outputs": [
    {
     "name": "stdout",
     "output_type": "stream",
     "text": [
      "enter the value of x: 10\n",
      "enter the value of y: 10\n"
     ]
    },
    {
     "data": {
      "text/plain": [
       "100"
      ]
     },
     "execution_count": 2,
     "metadata": {},
     "output_type": "execute_result"
    }
   ],
   "source": [
    "##ask user to enter the value of x and store the variable\n",
    "x = int(input(\"enter the value of x: \"))\n",
    "\n",
    "\n",
    "##ask user to enter the value of y and store the variable\n",
    "y = int(input(\"enter the value of y: \"))\n",
    "\n",
    "##peform any mathematical operation on user input\n",
    "\n",
    "z =x*y\n",
    "\n",
    "##print the ans\n",
    "\n",
    "z"
   ]
  },
  {
   "cell_type": "code",
   "execution_count": 7,
   "id": "34a00fa4",
   "metadata": {},
   "outputs": [
    {
     "data": {
      "text/plain": [
       "'i like python programing '"
      ]
     },
     "execution_count": 7,
     "metadata": {},
     "output_type": "execute_result"
    }
   ],
   "source": [
    "str1=\"i like python programing \"\n",
    "\n",
    "str1\n"
   ]
  },
  {
   "cell_type": "code",
   "execution_count": 10,
   "id": "6f214f0f",
   "metadata": {},
   "outputs": [
    {
     "data": {
      "text/plain": [
       "'number one'"
      ]
     },
     "execution_count": 10,
     "metadata": {},
     "output_type": "execute_result"
    }
   ],
   "source": [
    "str2=\"number one\"\n",
    "str2"
   ]
  },
  {
   "cell_type": "code",
   "execution_count": 11,
   "id": "aa261e21",
   "metadata": {},
   "outputs": [
    {
     "data": {
      "text/plain": [
       "'i like python programing number one'"
      ]
     },
     "execution_count": 11,
     "metadata": {},
     "output_type": "execute_result"
    }
   ],
   "source": [
    "str3=str1+str2\n",
    "str3"
   ]
  },
  {
   "cell_type": "code",
   "execution_count": 4,
   "id": "30038d55",
   "metadata": {},
   "outputs": [
    {
     "name": "stdout",
     "output_type": "stream",
     "text": [
      "Shubham\n",
      "7\n"
     ]
    }
   ],
   "source": [
    "##string indexing and slicing\n",
    "\n",
    "name =\"Shubham\"\n",
    "print(name)\n",
    "print(len(name))"
   ]
  },
  {
   "cell_type": "code",
   "execution_count": 5,
   "id": "877fb6d0",
   "metadata": {},
   "outputs": [
    {
     "data": {
      "text/plain": [
       "'S'"
      ]
     },
     "execution_count": 5,
     "metadata": {},
     "output_type": "execute_result"
    }
   ],
   "source": [
    "name[0]"
   ]
  },
  {
   "cell_type": "code",
   "execution_count": 6,
   "id": "0791156d",
   "metadata": {},
   "outputs": [
    {
     "data": {
      "text/plain": [
       "'m'"
      ]
     },
     "execution_count": 6,
     "metadata": {},
     "output_type": "execute_result"
    }
   ],
   "source": [
    "name[-1]"
   ]
  },
  {
   "cell_type": "code",
   "execution_count": 8,
   "id": "f349105a",
   "metadata": {},
   "outputs": [
    {
     "name": "stdout",
     "output_type": "stream",
     "text": [
      "my name is Shubham\n",
      "18\n",
      "-----(+ev index)-----\n",
      "y\n",
      "n\n",
      "m\n",
      " \n",
      "-----(-ev index)-----\n",
      "u\n",
      "S\n",
      "m\n",
      "h\n"
     ]
    }
   ],
   "source": [
    "name1=\"my name is Shubham\"\n",
    "print(name1)\n",
    "print(len(name1))\n",
    "\n",
    "print(\"-----(+ev index)-----\")\n",
    "\n",
    "print(name1[1])\n",
    "print(name1[3])\n",
    "print(name1[5])\n",
    "print(name1[7])\n",
    "\n",
    "print(\"-----(-ev index)-----\")\n",
    "\n",
    "print(name1[-5])\n",
    "print(name1[-7])\n",
    "print(name1[-1])\n",
    "print(name1[-3])"
   ]
  },
  {
   "cell_type": "code",
   "execution_count": 6,
   "id": "3598f139",
   "metadata": {},
   "outputs": [],
   "source": [
    "z=\"my name is shubham\""
   ]
  },
  {
   "cell_type": "code",
   "execution_count": 8,
   "id": "5d6cf01d",
   "metadata": {},
   "outputs": [
    {
     "data": {
      "text/plain": [
       "'n'"
      ]
     },
     "execution_count": 8,
     "metadata": {},
     "output_type": "execute_result"
    }
   ],
   "source": [
    "z[3]"
   ]
  },
  {
   "cell_type": "code",
   "execution_count": 9,
   "id": "93fe6cdb",
   "metadata": {},
   "outputs": [
    {
     "data": {
      "text/plain": [
       "'me i'"
      ]
     },
     "execution_count": 9,
     "metadata": {},
     "output_type": "execute_result"
    }
   ],
   "source": [
    "z[5:9]"
   ]
  },
  {
   "cell_type": "code",
   "execution_count": 13,
   "id": "9d76ecf2",
   "metadata": {},
   "outputs": [
    {
     "data": {
      "text/plain": [
       "'ha'"
      ]
     },
     "execution_count": 13,
     "metadata": {},
     "output_type": "execute_result"
    }
   ],
   "source": [
    "z[-3:-1]\n"
   ]
  },
  {
   "cell_type": "code",
   "execution_count": 15,
   "id": "73f285c2",
   "metadata": {},
   "outputs": [
    {
     "data": {
      "text/plain": [
       "'shubham'"
      ]
     },
     "execution_count": 15,
     "metadata": {},
     "output_type": "execute_result"
    }
   ],
   "source": [
    "z[-7:]"
   ]
  },
  {
   "cell_type": "markdown",
   "id": "d4fd9a07",
   "metadata": {},
   "source": [
    "# string formatting"
   ]
  },
  {
   "cell_type": "code",
   "execution_count": 22,
   "id": "a3b940b2",
   "metadata": {},
   "outputs": [
    {
     "name": "stdout",
     "output_type": "stream",
     "text": [
      "\n",
      " print string in positional order \n",
      "programming python language\n"
     ]
    }
   ],
   "source": [
    "#positional formatting \n",
    "\n",
    "str1=\"{1} {0} {2}\".format ('python', 'programming', 'language')\n",
    "\n",
    "print(\"\\n print string in positional order \")\n",
    "print(str1)"
   ]
  },
  {
   "cell_type": "markdown",
   "id": "ccbc89ea",
   "metadata": {},
   "source": [
    "# Python list"
   ]
  },
  {
   "cell_type": "code",
   "execution_count": 23,
   "id": "e559bc19",
   "metadata": {},
   "outputs": [],
   "source": [
    "my_list=[1,2,3,4,5]"
   ]
  },
  {
   "cell_type": "code",
   "execution_count": 24,
   "id": "f03680b9",
   "metadata": {},
   "outputs": [
    {
     "data": {
      "text/plain": [
       "[1, 2, 3, 4, 5]"
      ]
     },
     "execution_count": 24,
     "metadata": {},
     "output_type": "execute_result"
    }
   ],
   "source": [
    "my_list"
   ]
  },
  {
   "cell_type": "code",
   "execution_count": 25,
   "id": "a283ad6b",
   "metadata": {},
   "outputs": [
    {
     "data": {
      "text/plain": [
       "list"
      ]
     },
     "execution_count": 25,
     "metadata": {},
     "output_type": "execute_result"
    }
   ],
   "source": [
    "type(my_list)"
   ]
  },
  {
   "cell_type": "code",
   "execution_count": 26,
   "id": "ba99aab2",
   "metadata": {},
   "outputs": [
    {
     "data": {
      "text/plain": [
       "int"
      ]
     },
     "execution_count": 26,
     "metadata": {},
     "output_type": "execute_result"
    }
   ],
   "source": [
    "type(my_list[0])"
   ]
  },
  {
   "cell_type": "code",
   "execution_count": 27,
   "id": "06414e4c",
   "metadata": {},
   "outputs": [],
   "source": [
    "x=[1,2,2.3,4.3,\"hello\"]"
   ]
  },
  {
   "cell_type": "code",
   "execution_count": 28,
   "id": "3bce8003",
   "metadata": {},
   "outputs": [
    {
     "data": {
      "text/plain": [
       "[1, 2, 2.3, 4.3, 'hello']"
      ]
     },
     "execution_count": 28,
     "metadata": {},
     "output_type": "execute_result"
    }
   ],
   "source": [
    "x"
   ]
  },
  {
   "cell_type": "code",
   "execution_count": 31,
   "id": "df327747",
   "metadata": {},
   "outputs": [
    {
     "data": {
      "text/plain": [
       "2"
      ]
     },
     "execution_count": 31,
     "metadata": {},
     "output_type": "execute_result"
    }
   ],
   "source": [
    "x[1]"
   ]
  },
  {
   "cell_type": "code",
   "execution_count": 32,
   "id": "fc78e3c5",
   "metadata": {},
   "outputs": [
    {
     "data": {
      "text/plain": [
       "'hello'"
      ]
     },
     "execution_count": 32,
     "metadata": {},
     "output_type": "execute_result"
    }
   ],
   "source": [
    "x[-1]"
   ]
  },
  {
   "cell_type": "code",
   "execution_count": 35,
   "id": "525cad68",
   "metadata": {},
   "outputs": [],
   "source": [
    "x[4]=\"hi\""
   ]
  },
  {
   "cell_type": "code",
   "execution_count": 36,
   "id": "c4538547",
   "metadata": {},
   "outputs": [
    {
     "data": {
      "text/plain": [
       "'hi'"
      ]
     },
     "execution_count": 36,
     "metadata": {},
     "output_type": "execute_result"
    }
   ],
   "source": [
    "x[4]\n"
   ]
  },
  {
   "cell_type": "code",
   "execution_count": 37,
   "id": "ca609699",
   "metadata": {},
   "outputs": [
    {
     "data": {
      "text/plain": [
       "[1, 2, 2.3, 4.3, 'hi']"
      ]
     },
     "execution_count": 37,
     "metadata": {},
     "output_type": "execute_result"
    }
   ],
   "source": [
    "x"
   ]
  },
  {
   "cell_type": "code",
   "execution_count": 39,
   "id": "e891ab9e",
   "metadata": {},
   "outputs": [
    {
     "name": "stdout",
     "output_type": "stream",
     "text": [
      "input a value10\n",
      "input a value21\n"
     ]
    }
   ],
   "source": [
    "x=input(\"input a value\")\n",
    "y=input(\"input a value\")"
   ]
  },
  {
   "cell_type": "code",
   "execution_count": 40,
   "id": "dbacc126",
   "metadata": {},
   "outputs": [
    {
     "data": {
      "text/plain": [
       "'1021'"
      ]
     },
     "execution_count": 40,
     "metadata": {},
     "output_type": "execute_result"
    }
   ],
   "source": [
    "x+y"
   ]
  },
  {
   "cell_type": "code",
   "execution_count": 41,
   "id": "90eb73af",
   "metadata": {},
   "outputs": [],
   "source": [
    "x=int(x)"
   ]
  },
  {
   "cell_type": "code",
   "execution_count": 42,
   "id": "7d3df4ee",
   "metadata": {},
   "outputs": [],
   "source": [
    "y=int(y)"
   ]
  },
  {
   "cell_type": "code",
   "execution_count": 43,
   "id": "de2fc6f1",
   "metadata": {},
   "outputs": [
    {
     "data": {
      "text/plain": [
       "31"
      ]
     },
     "execution_count": 43,
     "metadata": {},
     "output_type": "execute_result"
    }
   ],
   "source": [
    "x+y"
   ]
  },
  {
   "cell_type": "markdown",
   "id": "bf06bcaa",
   "metadata": {},
   "source": [
    "# Tuples "
   ]
  },
  {
   "cell_type": "code",
   "execution_count": 48,
   "id": "5519529f",
   "metadata": {},
   "outputs": [],
   "source": [
    "A=(1,2,3,4,5)\n",
    "B=(6,7,8,9,10)"
   ]
  },
  {
   "cell_type": "code",
   "execution_count": 49,
   "id": "64d0f5a0",
   "metadata": {},
   "outputs": [
    {
     "data": {
      "text/plain": [
       "tuple"
      ]
     },
     "execution_count": 49,
     "metadata": {},
     "output_type": "execute_result"
    }
   ],
   "source": [
    "type(B)"
   ]
  },
  {
   "cell_type": "code",
   "execution_count": 50,
   "id": "bfc70c63",
   "metadata": {},
   "outputs": [
    {
     "data": {
      "text/plain": [
       "(1, 2, 3, 4, 5, 6, 7, 8, 9, 10)"
      ]
     },
     "execution_count": 50,
     "metadata": {},
     "output_type": "execute_result"
    }
   ],
   "source": [
    "A+B"
   ]
  },
  {
   "cell_type": "code",
   "execution_count": 51,
   "id": "1efedaf7",
   "metadata": {},
   "outputs": [
    {
     "data": {
      "text/plain": [
       "(1, 2, 3, 4, 5, 1, 2, 3, 4, 5)"
      ]
     },
     "execution_count": 51,
     "metadata": {},
     "output_type": "execute_result"
    }
   ],
   "source": [
    "A*2"
   ]
  },
  {
   "cell_type": "code",
   "execution_count": 52,
   "id": "1cd8d8aa",
   "metadata": {},
   "outputs": [
    {
     "data": {
      "text/plain": [
       "1"
      ]
     },
     "execution_count": 52,
     "metadata": {},
     "output_type": "execute_result"
    }
   ],
   "source": [
    "A[0]\n",
    "\n",
    "#use only [] for indexing\n"
   ]
  },
  {
   "cell_type": "code",
   "execution_count": 54,
   "id": "ccb1472b",
   "metadata": {},
   "outputs": [
    {
     "data": {
      "text/plain": [
       "5"
      ]
     },
     "execution_count": 54,
     "metadata": {},
     "output_type": "execute_result"
    }
   ],
   "source": [
    "A[4]"
   ]
  },
  {
   "cell_type": "markdown",
   "id": "fa22cfdf",
   "metadata": {},
   "source": [
    "# Python dictionary "
   ]
  },
  {
   "cell_type": "code",
   "execution_count": 55,
   "id": "302b57f1",
   "metadata": {},
   "outputs": [],
   "source": [
    "emp1={}"
   ]
  },
  {
   "cell_type": "code",
   "execution_count": 56,
   "id": "3d1c02a6",
   "metadata": {},
   "outputs": [
    {
     "data": {
      "text/plain": [
       "dict"
      ]
     },
     "execution_count": 56,
     "metadata": {},
     "output_type": "execute_result"
    }
   ],
   "source": [
    "type(emp1)"
   ]
  },
  {
   "cell_type": "code",
   "execution_count": 57,
   "id": "821880a4",
   "metadata": {},
   "outputs": [],
   "source": [
    "emp1[\"name\"]=\"Shubham\"\n",
    "emp1[\"age\"]=21\n",
    "emp1[\"Gender\"]=\"M\""
   ]
  },
  {
   "cell_type": "code",
   "execution_count": 58,
   "id": "351df1cb",
   "metadata": {},
   "outputs": [
    {
     "data": {
      "text/plain": [
       "{'name': 'Shubham', 'age': 21, 'Gender': 'M'}"
      ]
     },
     "execution_count": 58,
     "metadata": {},
     "output_type": "execute_result"
    }
   ],
   "source": [
    "emp1"
   ]
  },
  {
   "cell_type": "code",
   "execution_count": 60,
   "id": "78bde955",
   "metadata": {},
   "outputs": [
    {
     "ename": "KeyError",
     "evalue": "1",
     "output_type": "error",
     "traceback": [
      "\u001b[1;31m---------------------------------------------------------------------------\u001b[0m",
      "\u001b[1;31mKeyError\u001b[0m                                  Traceback (most recent call last)",
      "Input \u001b[1;32mIn [60]\u001b[0m, in \u001b[0;36m<cell line: 1>\u001b[1;34m()\u001b[0m\n\u001b[1;32m----> 1\u001b[0m \u001b[43memp1\u001b[49m\u001b[43m[\u001b[49m\u001b[38;5;241;43m1\u001b[39;49m\u001b[43m]\u001b[49m\n",
      "\u001b[1;31mKeyError\u001b[0m: 1"
     ]
    }
   ],
   "source": [
    "emp1[1]\n",
    "#indexing not possible\n"
   ]
  },
  {
   "cell_type": "code",
   "execution_count": 62,
   "id": "7ca842ed",
   "metadata": {},
   "outputs": [
    {
     "data": {
      "text/plain": [
       "dict_keys(['name', 'age', 'Gender'])"
      ]
     },
     "execution_count": 62,
     "metadata": {},
     "output_type": "execute_result"
    }
   ],
   "source": [
    "emp1.keys()"
   ]
  },
  {
   "cell_type": "markdown",
   "id": "cfbe1626",
   "metadata": {},
   "source": [
    "# python loops "
   ]
  },
  {
   "cell_type": "code",
   "execution_count": 8,
   "id": "950f48a9",
   "metadata": {},
   "outputs": [
    {
     "name": "stdout",
     "output_type": "stream",
     "text": [
      "the count is:  0\n",
      "Good bye\n",
      "the count is:  1\n",
      "Good bye\n",
      "the count is:  2\n",
      "Good bye\n",
      "the count is:  3\n",
      "Good bye\n",
      "the count is:  4\n",
      "Good bye\n",
      "the count is:  5\n",
      "Good bye\n",
      "the count is:  6\n",
      "Good bye\n",
      "the count is:  7\n",
      "Good bye\n",
      "the count is:  8\n",
      "Good bye\n"
     ]
    }
   ],
   "source": [
    "count = 0\n",
    "while(count<9):\n",
    "    print(\"the count is: \", count)\n",
    "    count = count+1\n",
    "    print(\"Good bye\")"
   ]
  },
  {
   "cell_type": "code",
   "execution_count": 11,
   "id": "eafdb81e",
   "metadata": {},
   "outputs": [
    {
     "name": "stdout",
     "output_type": "stream",
     "text": [
      "PROTEEN\n",
      "PROTEEN\n",
      "PROTEEN\n",
      "PROTEEN\n",
      "PROTEEN\n"
     ]
    }
   ],
   "source": [
    "count = 0\n",
    "while(count<5):\n",
    "    count = count+1\n",
    "    print(\"PROTEEN\")"
   ]
  },
  {
   "cell_type": "markdown",
   "id": "a16e48dd",
   "metadata": {},
   "source": [
    "# while else"
   ]
  },
  {
   "cell_type": "code",
   "execution_count": 15,
   "id": "e2b14a65",
   "metadata": {},
   "outputs": [
    {
     "name": "stdout",
     "output_type": "stream",
     "text": [
      "0 is less than 5\n",
      "1 is less than 5\n",
      "2 is less than 5\n",
      "3 is less than 5\n",
      "4 is less than 5\n",
      "5 is less than 5\n"
     ]
    }
   ],
   "source": [
    "count = 0\n",
    "while count < 5 :\n",
    "        print(count,\"is less than 5\")\n",
    "        count = count +1\n",
    "else:\n",
    "        print(count,\"is less than 5\")"
   ]
  },
  {
   "cell_type": "markdown",
   "id": "8c14dc24",
   "metadata": {},
   "source": [
    "# for loop"
   ]
  },
  {
   "cell_type": "code",
   "execution_count": 21,
   "id": "5ec0d490",
   "metadata": {},
   "outputs": [
    {
     "name": "stdout",
     "output_type": "stream",
     "text": [
      "current letter: p\n",
      "current letter: y\n",
      "current letter: t\n",
      "current letter: h\n",
      "current letter: o\n",
      "current letter: n\n"
     ]
    }
   ],
   "source": [
    "for letter in 'python':\n",
    "    print(\"current letter:\",letter)\n",
    "    "
   ]
  },
  {
   "cell_type": "code",
   "execution_count": 25,
   "id": "f33e3520",
   "metadata": {},
   "outputs": [
    {
     "name": "stdout",
     "output_type": "stream",
     "text": [
      "current fruit apple\n",
      "current fruit mango\n",
      "current fruit banana\n"
     ]
    }
   ],
   "source": [
    "N=['apple','mango','banana']\n",
    "for fruit in N :\n",
    "    print(\"current fruit\",fruit)"
   ]
  },
  {
   "cell_type": "code",
   "execution_count": 26,
   "id": "f836246d",
   "metadata": {},
   "outputs": [
    {
     "name": "stdout",
     "output_type": "stream",
     "text": [
      "0\n",
      "1\n",
      "2\n",
      "3\n",
      "4\n",
      "5\n",
      "6\n",
      "7\n",
      "8\n",
      "9\n"
     ]
    }
   ],
   "source": [
    "for i in range(10):\n",
    "    print(i)"
   ]
  },
  {
   "cell_type": "code",
   "execution_count": 3,
   "id": "cfa7f1af",
   "metadata": {},
   "outputs": [
    {
     "name": "stdout",
     "output_type": "stream",
     "text": [
      "10 equals 2 * 5\n",
      "11 is a prime number\n",
      "12 equals 2 * 6\n",
      "13 is a prime number\n",
      "14 equals 2 * 7\n",
      "15 is a prime number\n",
      "16 equals 2 * 8\n",
      "17 is a prime number\n",
      "18 equals 2 * 9\n",
      "19 is a prime number\n"
     ]
    }
   ],
   "source": [
    "for num in range(10,20):\n",
    "    for i in range(2,num):\n",
    "        if num%i ==0:\n",
    "            j=num/i\n",
    "            print('%d equals %d * %d' % (num,i,j))\n",
    "            break \n",
    "        else:\n",
    "            print(num,'is a prime number')\n",
    "            break\n",
    "   "
   ]
  },
  {
   "cell_type": "code",
   "execution_count": 48,
   "id": "e5fb2488",
   "metadata": {},
   "outputs": [
    {
     "data": {
      "text/plain": [
       "3.141592653589793"
      ]
     },
     "execution_count": 48,
     "metadata": {},
     "output_type": "execute_result"
    }
   ],
   "source": [
    "from math import pi\n",
    "pi"
   ]
  },
  {
   "cell_type": "code",
   "execution_count": 49,
   "id": "09d53ea6",
   "metadata": {},
   "outputs": [
    {
     "data": {
      "text/plain": [
       "3.141592653589793"
      ]
     },
     "execution_count": 49,
     "metadata": {},
     "output_type": "execute_result"
    }
   ],
   "source": [
    "pi"
   ]
  },
  {
   "cell_type": "code",
   "execution_count": 55,
   "id": "778c681b",
   "metadata": {},
   "outputs": [
    {
     "name": "stdout",
     "output_type": "stream",
     "text": [
      "78.53981633974483\n"
     ]
    }
   ],
   "source": [
    "r=5\n",
    "area=pi*r*r\n",
    "print(area)"
   ]
  },
  {
   "cell_type": "markdown",
   "id": "816789e5",
   "metadata": {},
   "source": [
    "# conditional statement"
   ]
  },
  {
   "cell_type": "code",
   "execution_count": 56,
   "id": "9a432426",
   "metadata": {},
   "outputs": [
    {
     "name": "stdout",
     "output_type": "stream",
     "text": [
      "5 is positive number\n",
      "statement is true\n"
     ]
    }
   ],
   "source": [
    "#if statement\n",
    "\n",
    "num =5 \n",
    "if num>0:\n",
    "    print(num,'is positive number')\n",
    "print('statement is true')    "
   ]
  },
  {
   "cell_type": "code",
   "execution_count": 58,
   "id": "9166c472",
   "metadata": {},
   "outputs": [
    {
     "name": "stdout",
     "output_type": "stream",
     "text": [
      "-5 is negative number\n"
     ]
    }
   ],
   "source": [
    "num = -5 \n",
    "if num>0:\n",
    "    print(num,'is positive number')\n",
    "else:\n",
    "    print(num,'is negative number')"
   ]
  },
  {
   "cell_type": "code",
   "execution_count": 67,
   "id": "e493b614",
   "metadata": {},
   "outputs": [
    {
     "name": "stdout",
     "output_type": "stream",
     "text": [
      "0 is zero\n"
     ]
    }
   ],
   "source": [
    "num =0 \n",
    "if num>=0:\n",
    "    if num==0:\n",
    "        print(num,'is zero')\n",
    "    else:\n",
    "        print(num,'is positive number') \n",
    "else:\n",
    "        print(num,'is negative number')"
   ]
  },
  {
   "cell_type": "markdown",
   "id": "313a7794",
   "metadata": {},
   "source": [
    "# calculator"
   ]
  },
  {
   "cell_type": "code",
   "execution_count": 5,
   "id": "809b8173",
   "metadata": {},
   "outputs": [
    {
     "name": "stdout",
     "output_type": "stream",
     "text": [
      "select operation\n",
      "1.Addition\n",
      "2.Subtract\n",
      "3.Multiply\n",
      "4.Divide\n",
      "Enter choice (1,2,3,4):5\n",
      "Enter the first number:33\n",
      "Enter the second number:33\n",
      "Invalide Input\n"
     ]
    }
   ],
   "source": [
    "#create function for each operation\n",
    "#this function add two number \n",
    "\n",
    "def add(x,y):          #def for defining function \n",
    "    return x+y \n",
    "\n",
    "#this function substraction two number \n",
    "\n",
    "def subtract(x,y):           \n",
    "    return x-y \n",
    "\n",
    "#this function multiply two number \n",
    "\n",
    "def multiply(x,y):           \n",
    "    return x*y \n",
    "\n",
    "#this function division two number \n",
    "\n",
    "def divide(x,y):           \n",
    "    return x/y \n",
    "\n",
    "print(\"select operation\")\n",
    "print(\"1.Addition\")\n",
    "print(\"2.Subtract\")\n",
    "print(\"3.Multiply\")\n",
    "print(\"4.Divide\")\n",
    "\n",
    "choice=input(\"Enter choice (1,2,3,4):\")\n",
    "\n",
    "num1=int(input(\"Enter the first number:\"))\n",
    "num2=int(input(\"Enter the second number:\"))\n",
    "\n",
    "if choice == '1':\n",
    "    print(num1,'+',num2,'=',add(num1,num2))\n",
    "elif choice =='2':\n",
    "    print(num1,'-',num2,'=',subtract(num1,num2))\n",
    "elif choice =='3':\n",
    "    print(num1,'*',num2,'=',multiply(num1,num2)) \n",
    "elif choice =='4':\n",
    "    print(num1,'/',num2,'=',divide(num1,num2))\n",
    "    \n",
    "else:\n",
    "    print(\"Invalide Input\")"
   ]
  },
  {
   "cell_type": "code",
   "execution_count": null,
   "id": "644b02e6",
   "metadata": {},
   "outputs": [],
   "source": []
  },
  {
   "cell_type": "code",
   "execution_count": null,
   "id": "c8e96fa4",
   "metadata": {},
   "outputs": [],
   "source": []
  }
 ],
 "metadata": {
  "kernelspec": {
   "display_name": "Python 3 (ipykernel)",
   "language": "python",
   "name": "python3"
  },
  "language_info": {
   "codemirror_mode": {
    "name": "ipython",
    "version": 3
   },
   "file_extension": ".py",
   "mimetype": "text/x-python",
   "name": "python",
   "nbconvert_exporter": "python",
   "pygments_lexer": "ipython3",
   "version": "3.9.12"
  }
 },
 "nbformat": 4,
 "nbformat_minor": 5
}
